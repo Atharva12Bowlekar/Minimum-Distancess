{
 "cells": [
  {
   "cell_type": "code",
   "execution_count": 49,
   "metadata": {},
   "outputs": [],
   "source": [
    "def minimumDistances(a):\n",
    "    s=set(a)\n",
    "    c=[]\n",
    "    d=[]\n",
    "    k=0\n",
    "    for i in a:\n",
    "        l=0\n",
    "        for j in a:\n",
    "            if(i==j):\n",
    "                c.append(l-k)\n",
    "            l=l+1\n",
    "        k=k+1\n",
    "    for i in c:\n",
    "        if(i>0):\n",
    "            d.append(i)\n",
    "    if(d==[]):\n",
    "        return -1\n",
    "    else:\n",
    "        return min(d)"
   ]
  },
  {
   "cell_type": "code",
   "execution_count": 50,
   "metadata": {},
   "outputs": [
    {
     "data": {
      "text/plain": [
       "4"
      ]
     },
     "execution_count": 50,
     "metadata": {},
     "output_type": "execute_result"
    }
   ],
   "source": [
    "minimumDistances([7,1,3,4,7])"
   ]
  }
 ],
 "metadata": {
  "kernelspec": {
   "display_name": "Python 3",
   "language": "python",
   "name": "python3"
  },
  "language_info": {
   "codemirror_mode": {
    "name": "ipython",
    "version": 3
   },
   "file_extension": ".py",
   "mimetype": "text/x-python",
   "name": "python",
   "nbconvert_exporter": "python",
   "pygments_lexer": "ipython3",
   "version": "3.8.3"
  }
 },
 "nbformat": 4,
 "nbformat_minor": 4
}
